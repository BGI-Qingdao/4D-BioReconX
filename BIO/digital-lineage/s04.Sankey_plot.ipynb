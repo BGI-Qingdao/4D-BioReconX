{
 "cells": [
  {
   "cell_type": "code",
   "execution_count": 2,
   "metadata": {},
   "outputs": [
    {
     "data": {
      "text/html": [
       "<div>\n",
       "<style scoped>\n",
       "    .dataframe tbody tr th:only-of-type {\n",
       "        vertical-align: middle;\n",
       "    }\n",
       "\n",
       "    .dataframe tbody tr th {\n",
       "        vertical-align: top;\n",
       "    }\n",
       "\n",
       "    .dataframe thead th {\n",
       "        text-align: right;\n",
       "    }\n",
       "</style>\n",
       "<table border=\"1\" class=\"dataframe\">\n",
       "  <thead>\n",
       "    <tr style=\"text-align: right;\">\n",
       "      <th></th>\n",
       "      <th>From</th>\n",
       "      <th>To</th>\n",
       "      <th>number</th>\n",
       "      <th>remain</th>\n",
       "      <th>label</th>\n",
       "      <th>time</th>\n",
       "    </tr>\n",
       "  </thead>\n",
       "  <tbody>\n",
       "    <tr>\n",
       "      <th>0</th>\n",
       "      <td>0hpa1_Nb2</td>\n",
       "      <td>12hpa2_Nb2</td>\n",
       "      <td>69</td>\n",
       "      <td>True</td>\n",
       "      <td>Nb2</td>\n",
       "      <td>0hpa1</td>\n",
       "    </tr>\n",
       "    <tr>\n",
       "      <th>1</th>\n",
       "      <td>0hpa1_cathepsin</td>\n",
       "      <td>12hpa2_cathepsin</td>\n",
       "      <td>1744</td>\n",
       "      <td>True</td>\n",
       "      <td>cathepsin</td>\n",
       "      <td>0hpa1</td>\n",
       "    </tr>\n",
       "    <tr>\n",
       "      <th>2</th>\n",
       "      <td>0hpa1_cathepsin</td>\n",
       "      <td>12hpa2_gut</td>\n",
       "      <td>210</td>\n",
       "      <td>True</td>\n",
       "      <td>cathepsin</td>\n",
       "      <td>0hpa1</td>\n",
       "    </tr>\n",
       "    <tr>\n",
       "      <th>3</th>\n",
       "      <td>0hpa1_epidermal</td>\n",
       "      <td>12hpa2_epidermal</td>\n",
       "      <td>1589</td>\n",
       "      <td>True</td>\n",
       "      <td>epidermal</td>\n",
       "      <td>0hpa1</td>\n",
       "    </tr>\n",
       "    <tr>\n",
       "      <th>4</th>\n",
       "      <td>0hpa1_epidermal</td>\n",
       "      <td>12hpa2_muscle</td>\n",
       "      <td>97</td>\n",
       "      <td>True</td>\n",
       "      <td>epidermal</td>\n",
       "      <td>0hpa1</td>\n",
       "    </tr>\n",
       "  </tbody>\n",
       "</table>\n",
       "</div>"
      ],
      "text/plain": [
       "              From                To  number  remain      label   time\n",
       "0        0hpa1_Nb2        12hpa2_Nb2      69    True        Nb2  0hpa1\n",
       "1  0hpa1_cathepsin  12hpa2_cathepsin    1744    True  cathepsin  0hpa1\n",
       "2  0hpa1_cathepsin        12hpa2_gut     210    True  cathepsin  0hpa1\n",
       "3  0hpa1_epidermal  12hpa2_epidermal    1589    True  epidermal  0hpa1\n",
       "4  0hpa1_epidermal     12hpa2_muscle      97    True  epidermal  0hpa1"
      ]
     },
     "execution_count": 2,
     "metadata": {},
     "output_type": "execute_result"
    }
   ],
   "source": [
    "##################################\n",
    "# loading data\n",
    "import pandas as pd\n",
    "\n",
    "data = pd.read_csv('E:/wochong/s40. MetaCell/sankey/strong.csv',sep='\\t',header=0)\n",
    "data['label'] = data.apply(lambda row : row['From'].split('_')[1],axis=1)\n",
    "data['time'] = data.apply(lambda row : row['From'].split('_')[0],axis=1)\n",
    "data.head()"
   ]
  },
  {
   "cell_type": "code",
   "execution_count": 3,
   "metadata": {},
   "outputs": [
    {
     "data": {
      "text/plain": [
       "array(['Nb2', 'cathepsin', 'epidermal', 'gut', 'muscle', 'neural',\n",
       "       'parenchymal', 'protonephridia', 'pharynx'], dtype=object)"
      ]
     },
     "execution_count": 3,
     "metadata": {},
     "output_type": "execute_result"
    }
   ],
   "source": [
    "data['label'].unique()\n"
   ]
  },
  {
   "cell_type": "code",
   "execution_count": 4,
   "metadata": {},
   "outputs": [],
   "source": [
    "############################\n",
    "#  config x.y,color\n",
    "import numpy as np\n",
    "X_pos = {\n",
    "    'WT'    : 0.01,\n",
    "    '0hpa1' : 0.06,\n",
    "    '12hpa2': 0.13,\n",
    "    '36hpa2': 0.26,\n",
    "    '3dpa2' : 0.39,\n",
    "    '5dpa1' : 0.51,\n",
    "    '7dpa2' : 0.64,\n",
    "    '10dpa1': 0.77,\n",
    "    '14dpa1': 0.9\n",
    "}\n",
    "Depths = {\n",
    "    '0hpa1' : 0,\n",
    "    '12hpa2': 1,\n",
    "    '36hpa2': 2,\n",
    "    '3dpa2' : 3,\n",
    "    '5dpa1' : 4,\n",
    "    '7dpa2' : 5,\n",
    "    '10dpa1': 6,\n",
    "    '14dpa1': 7\n",
    "}\n",
    "colors = [\n",
    "'#1EA51D',\n",
    "'#FBD26A',\n",
    "'#002FA7',\n",
    "'#BB86FC',\n",
    "'#03DAC6',\n",
    "'#CF6679',\n",
    "'#A51DA5',\n",
    "'#B0B0B0',\n",
    "'#D62237',\n",
    "'#333333',\n",
    "]\n",
    "Y_pos = {}\n",
    "Cmap = {}\n",
    "for i,x in enumerate(data['label'].unique()):\n",
    "    Y_pos[x] =  float(i)/10.0\n",
    "    Cmap[x] = colors[i]"
   ]
  },
  {
   "cell_type": "code",
   "execution_count": 5,
   "metadata": {},
   "outputs": [],
   "source": [
    "Y_pos = {\n",
    " 'cathepsin': 0.1,\n",
    " 'gut': 0.2,\n",
    " 'epidermal': 0.3,\n",
    " 'muscle': 0.4,\n",
    " 'neural': 0.5,\n",
    " 'Nb2': 0.6,\n",
    " 'parenchymal': 0.7,\n",
    " 'protonephridia': 0.8,\n",
    " 'pharynx': 0.9,\n",
    " 'other':0.91,\n",
    "}"
   ]
  },
  {
   "cell_type": "code",
   "execution_count": 6,
   "metadata": {},
   "outputs": [],
   "source": [
    "Cmap = { 'other':'#000000',\n",
    "         'neural': '#BB86FC',\n",
    "         'cathepsin': '#03DAC6',\n",
    "         'epidermal': '#002FA7',\n",
    "         'gut': '#1EA51D',\n",
    "         'muscle': '#CF6679',\n",
    "         'Nb2': '#D62237',\n",
    "         'parenchymal': '#FBD26A',\n",
    "         'pharynx':'#B0B0B0' ,\n",
    "         'protonephridia': '#A51DA5'}"
   ]
  },
  {
   "cell_type": "code",
   "execution_count": 7,
   "metadata": {},
   "outputs": [],
   "source": [
    "import numpy as np\n",
    "def get_nodes_links(data):\n",
    "    node1 = data['From'].unique()\n",
    "    node2 = data['To'].unique()\n",
    "    nodes = np.union1d(node1,node2)\n",
    "    node_id = {}\n",
    "    i = 0;\n",
    "    node = {\n",
    "        \"label\":[],\n",
    "        \"x\":[],\n",
    "        \"y\":[],\n",
    "        \"color\":[],\n",
    "        \n",
    "    };\n",
    "    link = {\n",
    "        \"source\": [],\n",
    "        \"target\": [],\n",
    "        \"value\": [],\n",
    "        \"color\" :[],\n",
    "    }\n",
    "    #create nodes\n",
    "    for x in nodes:\n",
    "        time = x.split('_')[0]\n",
    "        anno = x.split('_')[1]\n",
    "        node_id[x] = i;\n",
    "        i = i + 1 ;\n",
    "        node['label'].append(\"\")\n",
    "        node['x'].append(X_pos[time])\n",
    "        node['y'].append(Y_pos[anno])\n",
    "        node['color'].append(Cmap[anno])\n",
    "    #create links\n",
    "    for _ , row in data.iterrows():\n",
    "        anno = row['label']\n",
    "        fromkey = row['From']\n",
    "        tokey= row['To']\n",
    "        link['source'].append(node_id[fromkey])\n",
    "        link['target'].append(node_id[tokey])\n",
    "        link['value'].append(row['number'])\n",
    "        link['color'].append(Cmap[anno])\n",
    "    return node,link\n"
   ]
  },
  {
   "cell_type": "code",
   "execution_count": 9,
   "metadata": {},
   "outputs": [
    {
     "data": {
      "application/vnd.plotly.v1+json": {
       "config": {
        "plotlyServerURL": "https://plot.ly"
       },
       "data": [
        {
         "arrangement": "perpendicular",
         "link": {
          "color": [
           "#D62237",
           "#03DAC6",
           "#03DAC6",
           "#002FA7",
           "#002FA7",
           "#1EA51D",
           "#CF6679",
           "#CF6679",
           "#BB86FC",
           "#FBD26A",
           "#D62237",
           "#D62237",
           "#03DAC6",
           "#002FA7",
           "#002FA7",
           "#002FA7",
           "#1EA51D",
           "#1EA51D",
           "#CF6679",
           "#CF6679",
           "#BB86FC",
           "#FBD26A",
           "#FBD26A",
           "#A51DA5",
           "#D62237",
           "#D62237",
           "#03DAC6",
           "#03DAC6",
           "#002FA7",
           "#002FA7",
           "#1EA51D",
           "#CF6679",
           "#CF6679",
           "#BB86FC",
           "#BB86FC",
           "#BB86FC",
           "#FBD26A",
           "#FBD26A",
           "#B0B0B0",
           "#A51DA5",
           "#D62237",
           "#D62237",
           "#D62237",
           "#D62237",
           "#03DAC6",
           "#03DAC6",
           "#002FA7",
           "#002FA7",
           "#1EA51D",
           "#CF6679",
           "#CF6679",
           "#CF6679",
           "#BB86FC",
           "#BB86FC",
           "#FBD26A",
           "#FBD26A",
           "#B0B0B0",
           "#A51DA5",
           "#D62237",
           "#D62237",
           "#03DAC6",
           "#03DAC6",
           "#002FA7",
           "#002FA7",
           "#1EA51D",
           "#CF6679",
           "#BB86FC",
           "#BB86FC",
           "#FBD26A",
           "#B0B0B0",
           "#D62237",
           "#03DAC6",
           "#002FA7",
           "#002FA7",
           "#1EA51D",
           "#1EA51D",
           "#CF6679",
           "#CF6679",
           "#BB86FC",
           "#BB86FC",
           "#FBD26A",
           "#B0B0B0",
           "#D62237",
           "#03DAC6",
           "#03DAC6",
           "#002FA7",
           "#002FA7",
           "#1EA51D",
           "#CF6679",
           "#BB86FC",
           "#FBD26A",
           "#B0B0B0"
          ],
          "source": [
           0,
           1,
           1,
           2,
           2,
           3,
           4,
           4,
           5,
           6,
           15,
           15,
           16,
           17,
           17,
           17,
           18,
           18,
           19,
           19,
           20,
           21,
           21,
           22,
           30,
           30,
           31,
           31,
           32,
           32,
           33,
           34,
           34,
           35,
           35,
           35,
           36,
           36,
           37,
           38,
           39,
           39,
           39,
           39,
           40,
           40,
           41,
           41,
           42,
           43,
           43,
           43,
           44,
           44,
           45,
           45,
           46,
           47,
           48,
           48,
           49,
           49,
           50,
           50,
           51,
           52,
           53,
           53,
           54,
           55,
           57,
           58,
           59,
           59,
           60,
           60,
           61,
           61,
           62,
           62,
           63,
           64,
           7,
           8,
           8,
           9,
           9,
           10,
           11,
           12,
           13,
           14
          ],
          "target": [
           15,
           16,
           18,
           17,
           19,
           18,
           15,
           19,
           20,
           21,
           30,
           35,
           31,
           32,
           34,
           35,
           31,
           33,
           32,
           34,
           35,
           31,
           36,
           38,
           39,
           45,
           40,
           42,
           41,
           43,
           42,
           41,
           43,
           39,
           41,
           44,
           39,
           45,
           46,
           47,
           48,
           49,
           53,
           54,
           49,
           51,
           50,
           53,
           51,
           48,
           50,
           52,
           48,
           53,
           48,
           54,
           55,
           56,
           57,
           61,
           58,
           60,
           59,
           61,
           60,
           61,
           59,
           62,
           63,
           64,
           7,
           8,
           9,
           13,
           8,
           10,
           7,
           11,
           9,
           12,
           13,
           14,
           26,
           23,
           25,
           24,
           27,
           25,
           26,
           27,
           28,
           29
          ],
          "value": [
           69,
           1744,
           210,
           1589,
           97,
           1511,
           22,
           159,
           686,
           3640,
           235,
           120,
           1575,
           1376,
           162,
           155,
           348,
           1408,
           119,
           198,
           659,
           230,
           3494,
           1,
           332,
           187,
           1638,
           336,
           992,
           114,
           1539,
           76,
           232,
           146,
           96,
           891,
           201,
           2417,
           13,
           2,
           306,
           87,
           104,
           192,
           711,
           55,
           963,
           69,
           696,
           55,
           85,
           196,
           65,
           691,
           172,
           1984,
           150,
           4,
           31,
           21,
           613,
           158,
           1184,
           86,
           266,
           104,
           92,
           858,
           1772,
           517,
           6,
           571,
           1057,
           123,
           50,
           330,
           5,
           14,
           155,
           639,
           1878,
           503,
           11,
           417,
           85,
           1058,
           133,
           167,
           10,
           337,
           1109,
           449
          ]
         },
         "node": {
          "color": [
           "#D62237",
           "#03DAC6",
           "#002FA7",
           "#1EA51D",
           "#CF6679",
           "#BB86FC",
           "#FBD26A",
           "#D62237",
           "#03DAC6",
           "#002FA7",
           "#1EA51D",
           "#CF6679",
           "#BB86FC",
           "#FBD26A",
           "#B0B0B0",
           "#D62237",
           "#03DAC6",
           "#002FA7",
           "#1EA51D",
           "#CF6679",
           "#BB86FC",
           "#FBD26A",
           "#A51DA5",
           "#03DAC6",
           "#002FA7",
           "#1EA51D",
           "#CF6679",
           "#BB86FC",
           "#FBD26A",
           "#B0B0B0",
           "#D62237",
           "#03DAC6",
           "#002FA7",
           "#1EA51D",
           "#CF6679",
           "#BB86FC",
           "#FBD26A",
           "#B0B0B0",
           "#A51DA5",
           "#D62237",
           "#03DAC6",
           "#002FA7",
           "#1EA51D",
           "#CF6679",
           "#BB86FC",
           "#FBD26A",
           "#B0B0B0",
           "#A51DA5",
           "#D62237",
           "#03DAC6",
           "#002FA7",
           "#1EA51D",
           "#CF6679",
           "#BB86FC",
           "#FBD26A",
           "#B0B0B0",
           "#A51DA5",
           "#D62237",
           "#03DAC6",
           "#002FA7",
           "#1EA51D",
           "#CF6679",
           "#BB86FC",
           "#FBD26A",
           "#B0B0B0"
          ],
          "label": [
           "",
           "",
           "",
           "",
           "",
           "",
           "",
           "",
           "",
           "",
           "",
           "",
           "",
           "",
           "",
           "",
           "",
           "",
           "",
           "",
           "",
           "",
           "",
           "",
           "",
           "",
           "",
           "",
           "",
           "",
           "",
           "",
           "",
           "",
           "",
           "",
           "",
           "",
           "",
           "",
           "",
           "",
           "",
           "",
           "",
           "",
           "",
           "",
           "",
           "",
           "",
           "",
           "",
           "",
           "",
           "",
           "",
           "",
           "",
           "",
           "",
           "",
           "",
           "",
           ""
          ],
          "x": [
           0.06,
           0.06,
           0.06,
           0.06,
           0.06,
           0.06,
           0.06,
           0.77,
           0.77,
           0.77,
           0.77,
           0.77,
           0.77,
           0.77,
           0.77,
           0.13,
           0.13,
           0.13,
           0.13,
           0.13,
           0.13,
           0.13,
           0.13,
           0.9,
           0.9,
           0.9,
           0.9,
           0.9,
           0.9,
           0.9,
           0.26,
           0.26,
           0.26,
           0.26,
           0.26,
           0.26,
           0.26,
           0.26,
           0.26,
           0.39,
           0.39,
           0.39,
           0.39,
           0.39,
           0.39,
           0.39,
           0.39,
           0.39,
           0.51,
           0.51,
           0.51,
           0.51,
           0.51,
           0.51,
           0.51,
           0.51,
           0.51,
           0.64,
           0.64,
           0.64,
           0.64,
           0.64,
           0.64,
           0.64,
           0.64
          ],
          "y": [
           0.6,
           0.1,
           0.3,
           0.2,
           0.4,
           0.5,
           0.7,
           0.6,
           0.1,
           0.3,
           0.2,
           0.4,
           0.5,
           0.7,
           0.9,
           0.6,
           0.1,
           0.3,
           0.2,
           0.4,
           0.5,
           0.7,
           0.8,
           0.1,
           0.3,
           0.2,
           0.4,
           0.5,
           0.7,
           0.9,
           0.6,
           0.1,
           0.3,
           0.2,
           0.4,
           0.5,
           0.7,
           0.9,
           0.8,
           0.6,
           0.1,
           0.3,
           0.2,
           0.4,
           0.5,
           0.7,
           0.9,
           0.8,
           0.6,
           0.1,
           0.3,
           0.2,
           0.4,
           0.5,
           0.7,
           0.9,
           0.8,
           0.6,
           0.1,
           0.3,
           0.2,
           0.4,
           0.5,
           0.7,
           0.9
          ]
         },
         "type": "sankey"
        }
       ],
       "layout": {
        "autosize": false,
        "font": {
         "color": "white",
         "size": 10
        },
        "height": 700,
        "paper_bgcolor": "black",
        "plot_bgcolor": "black",
        "template": {
         "data": {
          "bar": [
           {
            "error_x": {
             "color": "#2a3f5f"
            },
            "error_y": {
             "color": "#2a3f5f"
            },
            "marker": {
             "line": {
              "color": "#E5ECF6",
              "width": 0.5
             },
             "pattern": {
              "fillmode": "overlay",
              "size": 10,
              "solidity": 0.2
             }
            },
            "type": "bar"
           }
          ],
          "barpolar": [
           {
            "marker": {
             "line": {
              "color": "#E5ECF6",
              "width": 0.5
             },
             "pattern": {
              "fillmode": "overlay",
              "size": 10,
              "solidity": 0.2
             }
            },
            "type": "barpolar"
           }
          ],
          "carpet": [
           {
            "aaxis": {
             "endlinecolor": "#2a3f5f",
             "gridcolor": "white",
             "linecolor": "white",
             "minorgridcolor": "white",
             "startlinecolor": "#2a3f5f"
            },
            "baxis": {
             "endlinecolor": "#2a3f5f",
             "gridcolor": "white",
             "linecolor": "white",
             "minorgridcolor": "white",
             "startlinecolor": "#2a3f5f"
            },
            "type": "carpet"
           }
          ],
          "choropleth": [
           {
            "colorbar": {
             "outlinewidth": 0,
             "ticks": ""
            },
            "type": "choropleth"
           }
          ],
          "contour": [
           {
            "colorbar": {
             "outlinewidth": 0,
             "ticks": ""
            },
            "colorscale": [
             [
              0,
              "#0d0887"
             ],
             [
              0.1111111111111111,
              "#46039f"
             ],
             [
              0.2222222222222222,
              "#7201a8"
             ],
             [
              0.3333333333333333,
              "#9c179e"
             ],
             [
              0.4444444444444444,
              "#bd3786"
             ],
             [
              0.5555555555555556,
              "#d8576b"
             ],
             [
              0.6666666666666666,
              "#ed7953"
             ],
             [
              0.7777777777777778,
              "#fb9f3a"
             ],
             [
              0.8888888888888888,
              "#fdca26"
             ],
             [
              1,
              "#f0f921"
             ]
            ],
            "type": "contour"
           }
          ],
          "contourcarpet": [
           {
            "colorbar": {
             "outlinewidth": 0,
             "ticks": ""
            },
            "type": "contourcarpet"
           }
          ],
          "heatmap": [
           {
            "colorbar": {
             "outlinewidth": 0,
             "ticks": ""
            },
            "colorscale": [
             [
              0,
              "#0d0887"
             ],
             [
              0.1111111111111111,
              "#46039f"
             ],
             [
              0.2222222222222222,
              "#7201a8"
             ],
             [
              0.3333333333333333,
              "#9c179e"
             ],
             [
              0.4444444444444444,
              "#bd3786"
             ],
             [
              0.5555555555555556,
              "#d8576b"
             ],
             [
              0.6666666666666666,
              "#ed7953"
             ],
             [
              0.7777777777777778,
              "#fb9f3a"
             ],
             [
              0.8888888888888888,
              "#fdca26"
             ],
             [
              1,
              "#f0f921"
             ]
            ],
            "type": "heatmap"
           }
          ],
          "heatmapgl": [
           {
            "colorbar": {
             "outlinewidth": 0,
             "ticks": ""
            },
            "colorscale": [
             [
              0,
              "#0d0887"
             ],
             [
              0.1111111111111111,
              "#46039f"
             ],
             [
              0.2222222222222222,
              "#7201a8"
             ],
             [
              0.3333333333333333,
              "#9c179e"
             ],
             [
              0.4444444444444444,
              "#bd3786"
             ],
             [
              0.5555555555555556,
              "#d8576b"
             ],
             [
              0.6666666666666666,
              "#ed7953"
             ],
             [
              0.7777777777777778,
              "#fb9f3a"
             ],
             [
              0.8888888888888888,
              "#fdca26"
             ],
             [
              1,
              "#f0f921"
             ]
            ],
            "type": "heatmapgl"
           }
          ],
          "histogram": [
           {
            "marker": {
             "pattern": {
              "fillmode": "overlay",
              "size": 10,
              "solidity": 0.2
             }
            },
            "type": "histogram"
           }
          ],
          "histogram2d": [
           {
            "colorbar": {
             "outlinewidth": 0,
             "ticks": ""
            },
            "colorscale": [
             [
              0,
              "#0d0887"
             ],
             [
              0.1111111111111111,
              "#46039f"
             ],
             [
              0.2222222222222222,
              "#7201a8"
             ],
             [
              0.3333333333333333,
              "#9c179e"
             ],
             [
              0.4444444444444444,
              "#bd3786"
             ],
             [
              0.5555555555555556,
              "#d8576b"
             ],
             [
              0.6666666666666666,
              "#ed7953"
             ],
             [
              0.7777777777777778,
              "#fb9f3a"
             ],
             [
              0.8888888888888888,
              "#fdca26"
             ],
             [
              1,
              "#f0f921"
             ]
            ],
            "type": "histogram2d"
           }
          ],
          "histogram2dcontour": [
           {
            "colorbar": {
             "outlinewidth": 0,
             "ticks": ""
            },
            "colorscale": [
             [
              0,
              "#0d0887"
             ],
             [
              0.1111111111111111,
              "#46039f"
             ],
             [
              0.2222222222222222,
              "#7201a8"
             ],
             [
              0.3333333333333333,
              "#9c179e"
             ],
             [
              0.4444444444444444,
              "#bd3786"
             ],
             [
              0.5555555555555556,
              "#d8576b"
             ],
             [
              0.6666666666666666,
              "#ed7953"
             ],
             [
              0.7777777777777778,
              "#fb9f3a"
             ],
             [
              0.8888888888888888,
              "#fdca26"
             ],
             [
              1,
              "#f0f921"
             ]
            ],
            "type": "histogram2dcontour"
           }
          ],
          "mesh3d": [
           {
            "colorbar": {
             "outlinewidth": 0,
             "ticks": ""
            },
            "type": "mesh3d"
           }
          ],
          "parcoords": [
           {
            "line": {
             "colorbar": {
              "outlinewidth": 0,
              "ticks": ""
             }
            },
            "type": "parcoords"
           }
          ],
          "pie": [
           {
            "automargin": true,
            "type": "pie"
           }
          ],
          "scatter": [
           {
            "fillpattern": {
             "fillmode": "overlay",
             "size": 10,
             "solidity": 0.2
            },
            "type": "scatter"
           }
          ],
          "scatter3d": [
           {
            "line": {
             "colorbar": {
              "outlinewidth": 0,
              "ticks": ""
             }
            },
            "marker": {
             "colorbar": {
              "outlinewidth": 0,
              "ticks": ""
             }
            },
            "type": "scatter3d"
           }
          ],
          "scattercarpet": [
           {
            "marker": {
             "colorbar": {
              "outlinewidth": 0,
              "ticks": ""
             }
            },
            "type": "scattercarpet"
           }
          ],
          "scattergeo": [
           {
            "marker": {
             "colorbar": {
              "outlinewidth": 0,
              "ticks": ""
             }
            },
            "type": "scattergeo"
           }
          ],
          "scattergl": [
           {
            "marker": {
             "colorbar": {
              "outlinewidth": 0,
              "ticks": ""
             }
            },
            "type": "scattergl"
           }
          ],
          "scattermapbox": [
           {
            "marker": {
             "colorbar": {
              "outlinewidth": 0,
              "ticks": ""
             }
            },
            "type": "scattermapbox"
           }
          ],
          "scatterpolar": [
           {
            "marker": {
             "colorbar": {
              "outlinewidth": 0,
              "ticks": ""
             }
            },
            "type": "scatterpolar"
           }
          ],
          "scatterpolargl": [
           {
            "marker": {
             "colorbar": {
              "outlinewidth": 0,
              "ticks": ""
             }
            },
            "type": "scatterpolargl"
           }
          ],
          "scatterternary": [
           {
            "marker": {
             "colorbar": {
              "outlinewidth": 0,
              "ticks": ""
             }
            },
            "type": "scatterternary"
           }
          ],
          "surface": [
           {
            "colorbar": {
             "outlinewidth": 0,
             "ticks": ""
            },
            "colorscale": [
             [
              0,
              "#0d0887"
             ],
             [
              0.1111111111111111,
              "#46039f"
             ],
             [
              0.2222222222222222,
              "#7201a8"
             ],
             [
              0.3333333333333333,
              "#9c179e"
             ],
             [
              0.4444444444444444,
              "#bd3786"
             ],
             [
              0.5555555555555556,
              "#d8576b"
             ],
             [
              0.6666666666666666,
              "#ed7953"
             ],
             [
              0.7777777777777778,
              "#fb9f3a"
             ],
             [
              0.8888888888888888,
              "#fdca26"
             ],
             [
              1,
              "#f0f921"
             ]
            ],
            "type": "surface"
           }
          ],
          "table": [
           {
            "cells": {
             "fill": {
              "color": "#EBF0F8"
             },
             "line": {
              "color": "white"
             }
            },
            "header": {
             "fill": {
              "color": "#C8D4E3"
             },
             "line": {
              "color": "white"
             }
            },
            "type": "table"
           }
          ]
         },
         "layout": {
          "annotationdefaults": {
           "arrowcolor": "#2a3f5f",
           "arrowhead": 0,
           "arrowwidth": 1
          },
          "autotypenumbers": "strict",
          "coloraxis": {
           "colorbar": {
            "outlinewidth": 0,
            "ticks": ""
           }
          },
          "colorscale": {
           "diverging": [
            [
             0,
             "#8e0152"
            ],
            [
             0.1,
             "#c51b7d"
            ],
            [
             0.2,
             "#de77ae"
            ],
            [
             0.3,
             "#f1b6da"
            ],
            [
             0.4,
             "#fde0ef"
            ],
            [
             0.5,
             "#f7f7f7"
            ],
            [
             0.6,
             "#e6f5d0"
            ],
            [
             0.7,
             "#b8e186"
            ],
            [
             0.8,
             "#7fbc41"
            ],
            [
             0.9,
             "#4d9221"
            ],
            [
             1,
             "#276419"
            ]
           ],
           "sequential": [
            [
             0,
             "#0d0887"
            ],
            [
             0.1111111111111111,
             "#46039f"
            ],
            [
             0.2222222222222222,
             "#7201a8"
            ],
            [
             0.3333333333333333,
             "#9c179e"
            ],
            [
             0.4444444444444444,
             "#bd3786"
            ],
            [
             0.5555555555555556,
             "#d8576b"
            ],
            [
             0.6666666666666666,
             "#ed7953"
            ],
            [
             0.7777777777777778,
             "#fb9f3a"
            ],
            [
             0.8888888888888888,
             "#fdca26"
            ],
            [
             1,
             "#f0f921"
            ]
           ],
           "sequentialminus": [
            [
             0,
             "#0d0887"
            ],
            [
             0.1111111111111111,
             "#46039f"
            ],
            [
             0.2222222222222222,
             "#7201a8"
            ],
            [
             0.3333333333333333,
             "#9c179e"
            ],
            [
             0.4444444444444444,
             "#bd3786"
            ],
            [
             0.5555555555555556,
             "#d8576b"
            ],
            [
             0.6666666666666666,
             "#ed7953"
            ],
            [
             0.7777777777777778,
             "#fb9f3a"
            ],
            [
             0.8888888888888888,
             "#fdca26"
            ],
            [
             1,
             "#f0f921"
            ]
           ]
          },
          "colorway": [
           "#636efa",
           "#EF553B",
           "#00cc96",
           "#ab63fa",
           "#FFA15A",
           "#19d3f3",
           "#FF6692",
           "#B6E880",
           "#FF97FF",
           "#FECB52"
          ],
          "font": {
           "color": "#2a3f5f"
          },
          "geo": {
           "bgcolor": "white",
           "lakecolor": "white",
           "landcolor": "#E5ECF6",
           "showlakes": true,
           "showland": true,
           "subunitcolor": "white"
          },
          "hoverlabel": {
           "align": "left"
          },
          "hovermode": "closest",
          "mapbox": {
           "style": "light"
          },
          "paper_bgcolor": "white",
          "plot_bgcolor": "#E5ECF6",
          "polar": {
           "angularaxis": {
            "gridcolor": "white",
            "linecolor": "white",
            "ticks": ""
           },
           "bgcolor": "#E5ECF6",
           "radialaxis": {
            "gridcolor": "white",
            "linecolor": "white",
            "ticks": ""
           }
          },
          "scene": {
           "xaxis": {
            "backgroundcolor": "#E5ECF6",
            "gridcolor": "white",
            "gridwidth": 2,
            "linecolor": "white",
            "showbackground": true,
            "ticks": "",
            "zerolinecolor": "white"
           },
           "yaxis": {
            "backgroundcolor": "#E5ECF6",
            "gridcolor": "white",
            "gridwidth": 2,
            "linecolor": "white",
            "showbackground": true,
            "ticks": "",
            "zerolinecolor": "white"
           },
           "zaxis": {
            "backgroundcolor": "#E5ECF6",
            "gridcolor": "white",
            "gridwidth": 2,
            "linecolor": "white",
            "showbackground": true,
            "ticks": "",
            "zerolinecolor": "white"
           }
          },
          "shapedefaults": {
           "line": {
            "color": "#2a3f5f"
           }
          },
          "ternary": {
           "aaxis": {
            "gridcolor": "white",
            "linecolor": "white",
            "ticks": ""
           },
           "baxis": {
            "gridcolor": "white",
            "linecolor": "white",
            "ticks": ""
           },
           "bgcolor": "#E5ECF6",
           "caxis": {
            "gridcolor": "white",
            "linecolor": "white",
            "ticks": ""
           }
          },
          "title": {
           "x": 0.05
          },
          "xaxis": {
           "automargin": true,
           "gridcolor": "white",
           "linecolor": "white",
           "ticks": "",
           "title": {
            "standoff": 15
           },
           "zerolinecolor": "white",
           "zerolinewidth": 2
          },
          "yaxis": {
           "automargin": true,
           "gridcolor": "white",
           "linecolor": "white",
           "ticks": "",
           "title": {
            "standoff": 15
           },
           "zerolinecolor": "white",
           "zerolinewidth": 2
          }
         }
        },
        "title": {
         "text": "Test"
        },
        "width": 700
       }
      }
     },
     "metadata": {},
     "output_type": "display_data"
    }
   ],
   "source": [
    "import plotly.graph_objects as go\n",
    "import plotly.io as pio\n",
    "#pio.kaleido.scope.default_format = \"svg\"\n",
    "\n",
    "nodes , links = get_nodes_links(data)\n",
    "\n",
    "fig = go.Figure(go.Sankey(node = nodes,arrangement='perpendicular',\n",
    "    link = links ) )\n",
    "\n",
    "fig.update_layout(\n",
    "    title=\"Test\",\n",
    "    font=dict(size = 10, color = 'white'),\n",
    "    plot_bgcolor='black',\n",
    "    paper_bgcolor='black'\n",
    ")\n",
    "fig.update_layout(\n",
    "    autosize=False,\n",
    "    width=700,\n",
    "    height=700,\n",
    ")\n",
    "fig.show()"
   ]
  },
  {
   "cell_type": "code",
   "execution_count": null,
   "metadata": {},
   "outputs": [],
   "source": [
    "import kaleido\n",
    "fig.write_image(\"E:/wochong/fig1.pdf\")"
   ]
  },
  {
   "cell_type": "code",
   "execution_count": 11,
   "metadata": {},
   "outputs": [
    {
     "data": {
      "application/vnd.plotly.v1+json": {
       "config": {
        "plotlyServerURL": "https://plot.ly"
       },
       "data": [
        {
         "arrangement": "perpendicular",
         "link": {
          "color": [
           "#D62237",
           "#03DAC6",
           "#03DAC6",
           "#002FA7",
           "#002FA7",
           "#1EA51D",
           "#CF6679",
           "#CF6679",
           "#BB86FC",
           "#FBD26A",
           "#D62237",
           "#D62237",
           "#03DAC6",
           "#002FA7",
           "#002FA7",
           "#002FA7",
           "#1EA51D",
           "#1EA51D",
           "#CF6679",
           "#CF6679",
           "#BB86FC",
           "#FBD26A",
           "#FBD26A",
           "#A51DA5",
           "#D62237",
           "#D62237",
           "#03DAC6",
           "#03DAC6",
           "#002FA7",
           "#002FA7",
           "#1EA51D",
           "#CF6679",
           "#CF6679",
           "#BB86FC",
           "#BB86FC",
           "#BB86FC",
           "#FBD26A",
           "#FBD26A",
           "#B0B0B0",
           "#A51DA5",
           "#D62237",
           "#D62237",
           "#D62237",
           "#D62237",
           "#03DAC6",
           "#03DAC6",
           "#002FA7",
           "#002FA7",
           "#1EA51D",
           "#CF6679",
           "#CF6679",
           "#CF6679",
           "#BB86FC",
           "#BB86FC",
           "#FBD26A",
           "#FBD26A",
           "#B0B0B0",
           "#A51DA5",
           "#D62237",
           "#D62237",
           "#03DAC6",
           "#03DAC6",
           "#002FA7",
           "#002FA7",
           "#1EA51D",
           "#CF6679",
           "#BB86FC",
           "#BB86FC",
           "#FBD26A",
           "#B0B0B0",
           "#D62237",
           "#03DAC6",
           "#002FA7",
           "#002FA7",
           "#1EA51D",
           "#1EA51D",
           "#CF6679",
           "#CF6679",
           "#BB86FC",
           "#BB86FC",
           "#FBD26A",
           "#B0B0B0",
           "#D62237",
           "#03DAC6",
           "#03DAC6",
           "#002FA7",
           "#002FA7",
           "#1EA51D",
           "#CF6679",
           "#BB86FC",
           "#FBD26A",
           "#B0B0B0"
          ],
          "source": [
           0,
           1,
           1,
           2,
           2,
           3,
           4,
           4,
           5,
           6,
           15,
           15,
           16,
           17,
           17,
           17,
           18,
           18,
           19,
           19,
           20,
           21,
           21,
           22,
           30,
           30,
           31,
           31,
           32,
           32,
           33,
           34,
           34,
           35,
           35,
           35,
           36,
           36,
           37,
           38,
           39,
           39,
           39,
           39,
           40,
           40,
           41,
           41,
           42,
           43,
           43,
           43,
           44,
           44,
           45,
           45,
           46,
           47,
           48,
           48,
           49,
           49,
           50,
           50,
           51,
           52,
           53,
           53,
           54,
           55,
           57,
           58,
           59,
           59,
           60,
           60,
           61,
           61,
           62,
           62,
           63,
           64,
           7,
           8,
           8,
           9,
           9,
           10,
           11,
           12,
           13,
           14
          ],
          "target": [
           15,
           16,
           18,
           17,
           19,
           18,
           15,
           19,
           20,
           21,
           30,
           35,
           31,
           32,
           34,
           35,
           31,
           33,
           32,
           34,
           35,
           31,
           36,
           38,
           39,
           45,
           40,
           42,
           41,
           43,
           42,
           41,
           43,
           39,
           41,
           44,
           39,
           45,
           46,
           47,
           48,
           49,
           53,
           54,
           49,
           51,
           50,
           53,
           51,
           48,
           50,
           52,
           48,
           53,
           48,
           54,
           55,
           56,
           57,
           61,
           58,
           60,
           59,
           61,
           60,
           61,
           59,
           62,
           63,
           64,
           7,
           8,
           9,
           13,
           8,
           10,
           7,
           11,
           9,
           12,
           13,
           14,
           26,
           23,
           25,
           24,
           27,
           25,
           26,
           27,
           28,
           29
          ],
          "value": [
           69,
           1744,
           210,
           1589,
           97,
           1511,
           22,
           159,
           686,
           3640,
           235,
           120,
           1575,
           1376,
           162,
           155,
           348,
           1408,
           119,
           198,
           659,
           230,
           3494,
           1,
           332,
           187,
           1638,
           336,
           992,
           114,
           1539,
           76,
           232,
           146,
           96,
           891,
           201,
           2417,
           13,
           2,
           306,
           87,
           104,
           192,
           711,
           55,
           963,
           69,
           696,
           55,
           85,
           196,
           65,
           691,
           172,
           1984,
           150,
           4,
           31,
           21,
           613,
           158,
           1184,
           86,
           266,
           104,
           92,
           858,
           1772,
           517,
           6,
           571,
           1057,
           123,
           50,
           330,
           5,
           14,
           155,
           639,
           1878,
           503,
           11,
           417,
           85,
           1058,
           133,
           167,
           10,
           337,
           1109,
           449
          ]
         },
         "node": {
          "color": [
           "#D62237",
           "#03DAC6",
           "#002FA7",
           "#1EA51D",
           "#CF6679",
           "#BB86FC",
           "#FBD26A",
           "#D62237",
           "#03DAC6",
           "#002FA7",
           "#1EA51D",
           "#CF6679",
           "#BB86FC",
           "#FBD26A",
           "#B0B0B0",
           "#D62237",
           "#03DAC6",
           "#002FA7",
           "#1EA51D",
           "#CF6679",
           "#BB86FC",
           "#FBD26A",
           "#A51DA5",
           "#03DAC6",
           "#002FA7",
           "#1EA51D",
           "#CF6679",
           "#BB86FC",
           "#FBD26A",
           "#B0B0B0",
           "#D62237",
           "#03DAC6",
           "#002FA7",
           "#1EA51D",
           "#CF6679",
           "#BB86FC",
           "#FBD26A",
           "#B0B0B0",
           "#A51DA5",
           "#D62237",
           "#03DAC6",
           "#002FA7",
           "#1EA51D",
           "#CF6679",
           "#BB86FC",
           "#FBD26A",
           "#B0B0B0",
           "#A51DA5",
           "#D62237",
           "#03DAC6",
           "#002FA7",
           "#1EA51D",
           "#CF6679",
           "#BB86FC",
           "#FBD26A",
           "#B0B0B0",
           "#A51DA5",
           "#D62237",
           "#03DAC6",
           "#002FA7",
           "#1EA51D",
           "#CF6679",
           "#BB86FC",
           "#FBD26A",
           "#B0B0B0"
          ],
          "label": [
           "",
           "",
           "",
           "",
           "",
           "",
           "",
           "",
           "",
           "",
           "",
           "",
           "",
           "",
           "",
           "",
           "",
           "",
           "",
           "",
           "",
           "",
           "",
           "",
           "",
           "",
           "",
           "",
           "",
           "",
           "",
           "",
           "",
           "",
           "",
           "",
           "",
           "",
           "",
           "",
           "",
           "",
           "",
           "",
           "",
           "",
           "",
           "",
           "",
           "",
           "",
           "",
           "",
           "",
           "",
           "",
           "",
           "",
           "",
           "",
           "",
           "",
           "",
           "",
           ""
          ],
          "x": [
           0.06,
           0.06,
           0.06,
           0.06,
           0.06,
           0.06,
           0.06,
           0.77,
           0.77,
           0.77,
           0.77,
           0.77,
           0.77,
           0.77,
           0.77,
           0.13,
           0.13,
           0.13,
           0.13,
           0.13,
           0.13,
           0.13,
           0.13,
           0.9,
           0.9,
           0.9,
           0.9,
           0.9,
           0.9,
           0.9,
           0.26,
           0.26,
           0.26,
           0.26,
           0.26,
           0.26,
           0.26,
           0.26,
           0.26,
           0.39,
           0.39,
           0.39,
           0.39,
           0.39,
           0.39,
           0.39,
           0.39,
           0.39,
           0.51,
           0.51,
           0.51,
           0.51,
           0.51,
           0.51,
           0.51,
           0.51,
           0.51,
           0.64,
           0.64,
           0.64,
           0.64,
           0.64,
           0.64,
           0.64,
           0.64
          ],
          "y": [
           0.6,
           0.1,
           0.3,
           0.2,
           0.4,
           0.5,
           0.7,
           0.6,
           0.1,
           0.3,
           0.2,
           0.4,
           0.5,
           0.7,
           0.9,
           0.6,
           0.1,
           0.3,
           0.2,
           0.4,
           0.5,
           0.7,
           0.8,
           0.1,
           0.3,
           0.2,
           0.4,
           0.5,
           0.7,
           0.9,
           0.6,
           0.1,
           0.3,
           0.2,
           0.4,
           0.5,
           0.7,
           0.9,
           0.8,
           0.6,
           0.1,
           0.3,
           0.2,
           0.4,
           0.5,
           0.7,
           0.9,
           0.8,
           0.6,
           0.1,
           0.3,
           0.2,
           0.4,
           0.5,
           0.7,
           0.9,
           0.8,
           0.6,
           0.1,
           0.3,
           0.2,
           0.4,
           0.5,
           0.7,
           0.9
          ]
         },
         "type": "sankey"
        }
       ],
       "layout": {
        "autosize": false,
        "font": {
         "color": "white",
         "size": 10
        },
        "height": 700,
        "paper_bgcolor": "black",
        "plot_bgcolor": "black",
        "template": {
         "data": {
          "bar": [
           {
            "error_x": {
             "color": "#2a3f5f"
            },
            "error_y": {
             "color": "#2a3f5f"
            },
            "marker": {
             "line": {
              "color": "#E5ECF6",
              "width": 0.5
             },
             "pattern": {
              "fillmode": "overlay",
              "size": 10,
              "solidity": 0.2
             }
            },
            "type": "bar"
           }
          ],
          "barpolar": [
           {
            "marker": {
             "line": {
              "color": "#E5ECF6",
              "width": 0.5
             },
             "pattern": {
              "fillmode": "overlay",
              "size": 10,
              "solidity": 0.2
             }
            },
            "type": "barpolar"
           }
          ],
          "carpet": [
           {
            "aaxis": {
             "endlinecolor": "#2a3f5f",
             "gridcolor": "white",
             "linecolor": "white",
             "minorgridcolor": "white",
             "startlinecolor": "#2a3f5f"
            },
            "baxis": {
             "endlinecolor": "#2a3f5f",
             "gridcolor": "white",
             "linecolor": "white",
             "minorgridcolor": "white",
             "startlinecolor": "#2a3f5f"
            },
            "type": "carpet"
           }
          ],
          "choropleth": [
           {
            "colorbar": {
             "outlinewidth": 0,
             "ticks": ""
            },
            "type": "choropleth"
           }
          ],
          "contour": [
           {
            "colorbar": {
             "outlinewidth": 0,
             "ticks": ""
            },
            "colorscale": [
             [
              0,
              "#0d0887"
             ],
             [
              0.1111111111111111,
              "#46039f"
             ],
             [
              0.2222222222222222,
              "#7201a8"
             ],
             [
              0.3333333333333333,
              "#9c179e"
             ],
             [
              0.4444444444444444,
              "#bd3786"
             ],
             [
              0.5555555555555556,
              "#d8576b"
             ],
             [
              0.6666666666666666,
              "#ed7953"
             ],
             [
              0.7777777777777778,
              "#fb9f3a"
             ],
             [
              0.8888888888888888,
              "#fdca26"
             ],
             [
              1,
              "#f0f921"
             ]
            ],
            "type": "contour"
           }
          ],
          "contourcarpet": [
           {
            "colorbar": {
             "outlinewidth": 0,
             "ticks": ""
            },
            "type": "contourcarpet"
           }
          ],
          "heatmap": [
           {
            "colorbar": {
             "outlinewidth": 0,
             "ticks": ""
            },
            "colorscale": [
             [
              0,
              "#0d0887"
             ],
             [
              0.1111111111111111,
              "#46039f"
             ],
             [
              0.2222222222222222,
              "#7201a8"
             ],
             [
              0.3333333333333333,
              "#9c179e"
             ],
             [
              0.4444444444444444,
              "#bd3786"
             ],
             [
              0.5555555555555556,
              "#d8576b"
             ],
             [
              0.6666666666666666,
              "#ed7953"
             ],
             [
              0.7777777777777778,
              "#fb9f3a"
             ],
             [
              0.8888888888888888,
              "#fdca26"
             ],
             [
              1,
              "#f0f921"
             ]
            ],
            "type": "heatmap"
           }
          ],
          "heatmapgl": [
           {
            "colorbar": {
             "outlinewidth": 0,
             "ticks": ""
            },
            "colorscale": [
             [
              0,
              "#0d0887"
             ],
             [
              0.1111111111111111,
              "#46039f"
             ],
             [
              0.2222222222222222,
              "#7201a8"
             ],
             [
              0.3333333333333333,
              "#9c179e"
             ],
             [
              0.4444444444444444,
              "#bd3786"
             ],
             [
              0.5555555555555556,
              "#d8576b"
             ],
             [
              0.6666666666666666,
              "#ed7953"
             ],
             [
              0.7777777777777778,
              "#fb9f3a"
             ],
             [
              0.8888888888888888,
              "#fdca26"
             ],
             [
              1,
              "#f0f921"
             ]
            ],
            "type": "heatmapgl"
           }
          ],
          "histogram": [
           {
            "marker": {
             "pattern": {
              "fillmode": "overlay",
              "size": 10,
              "solidity": 0.2
             }
            },
            "type": "histogram"
           }
          ],
          "histogram2d": [
           {
            "colorbar": {
             "outlinewidth": 0,
             "ticks": ""
            },
            "colorscale": [
             [
              0,
              "#0d0887"
             ],
             [
              0.1111111111111111,
              "#46039f"
             ],
             [
              0.2222222222222222,
              "#7201a8"
             ],
             [
              0.3333333333333333,
              "#9c179e"
             ],
             [
              0.4444444444444444,
              "#bd3786"
             ],
             [
              0.5555555555555556,
              "#d8576b"
             ],
             [
              0.6666666666666666,
              "#ed7953"
             ],
             [
              0.7777777777777778,
              "#fb9f3a"
             ],
             [
              0.8888888888888888,
              "#fdca26"
             ],
             [
              1,
              "#f0f921"
             ]
            ],
            "type": "histogram2d"
           }
          ],
          "histogram2dcontour": [
           {
            "colorbar": {
             "outlinewidth": 0,
             "ticks": ""
            },
            "colorscale": [
             [
              0,
              "#0d0887"
             ],
             [
              0.1111111111111111,
              "#46039f"
             ],
             [
              0.2222222222222222,
              "#7201a8"
             ],
             [
              0.3333333333333333,
              "#9c179e"
             ],
             [
              0.4444444444444444,
              "#bd3786"
             ],
             [
              0.5555555555555556,
              "#d8576b"
             ],
             [
              0.6666666666666666,
              "#ed7953"
             ],
             [
              0.7777777777777778,
              "#fb9f3a"
             ],
             [
              0.8888888888888888,
              "#fdca26"
             ],
             [
              1,
              "#f0f921"
             ]
            ],
            "type": "histogram2dcontour"
           }
          ],
          "mesh3d": [
           {
            "colorbar": {
             "outlinewidth": 0,
             "ticks": ""
            },
            "type": "mesh3d"
           }
          ],
          "parcoords": [
           {
            "line": {
             "colorbar": {
              "outlinewidth": 0,
              "ticks": ""
             }
            },
            "type": "parcoords"
           }
          ],
          "pie": [
           {
            "automargin": true,
            "type": "pie"
           }
          ],
          "scatter": [
           {
            "fillpattern": {
             "fillmode": "overlay",
             "size": 10,
             "solidity": 0.2
            },
            "type": "scatter"
           }
          ],
          "scatter3d": [
           {
            "line": {
             "colorbar": {
              "outlinewidth": 0,
              "ticks": ""
             }
            },
            "marker": {
             "colorbar": {
              "outlinewidth": 0,
              "ticks": ""
             }
            },
            "type": "scatter3d"
           }
          ],
          "scattercarpet": [
           {
            "marker": {
             "colorbar": {
              "outlinewidth": 0,
              "ticks": ""
             }
            },
            "type": "scattercarpet"
           }
          ],
          "scattergeo": [
           {
            "marker": {
             "colorbar": {
              "outlinewidth": 0,
              "ticks": ""
             }
            },
            "type": "scattergeo"
           }
          ],
          "scattergl": [
           {
            "marker": {
             "colorbar": {
              "outlinewidth": 0,
              "ticks": ""
             }
            },
            "type": "scattergl"
           }
          ],
          "scattermapbox": [
           {
            "marker": {
             "colorbar": {
              "outlinewidth": 0,
              "ticks": ""
             }
            },
            "type": "scattermapbox"
           }
          ],
          "scatterpolar": [
           {
            "marker": {
             "colorbar": {
              "outlinewidth": 0,
              "ticks": ""
             }
            },
            "type": "scatterpolar"
           }
          ],
          "scatterpolargl": [
           {
            "marker": {
             "colorbar": {
              "outlinewidth": 0,
              "ticks": ""
             }
            },
            "type": "scatterpolargl"
           }
          ],
          "scatterternary": [
           {
            "marker": {
             "colorbar": {
              "outlinewidth": 0,
              "ticks": ""
             }
            },
            "type": "scatterternary"
           }
          ],
          "surface": [
           {
            "colorbar": {
             "outlinewidth": 0,
             "ticks": ""
            },
            "colorscale": [
             [
              0,
              "#0d0887"
             ],
             [
              0.1111111111111111,
              "#46039f"
             ],
             [
              0.2222222222222222,
              "#7201a8"
             ],
             [
              0.3333333333333333,
              "#9c179e"
             ],
             [
              0.4444444444444444,
              "#bd3786"
             ],
             [
              0.5555555555555556,
              "#d8576b"
             ],
             [
              0.6666666666666666,
              "#ed7953"
             ],
             [
              0.7777777777777778,
              "#fb9f3a"
             ],
             [
              0.8888888888888888,
              "#fdca26"
             ],
             [
              1,
              "#f0f921"
             ]
            ],
            "type": "surface"
           }
          ],
          "table": [
           {
            "cells": {
             "fill": {
              "color": "#EBF0F8"
             },
             "line": {
              "color": "white"
             }
            },
            "header": {
             "fill": {
              "color": "#C8D4E3"
             },
             "line": {
              "color": "white"
             }
            },
            "type": "table"
           }
          ]
         },
         "layout": {
          "annotationdefaults": {
           "arrowcolor": "#2a3f5f",
           "arrowhead": 0,
           "arrowwidth": 1
          },
          "autotypenumbers": "strict",
          "coloraxis": {
           "colorbar": {
            "outlinewidth": 0,
            "ticks": ""
           }
          },
          "colorscale": {
           "diverging": [
            [
             0,
             "#8e0152"
            ],
            [
             0.1,
             "#c51b7d"
            ],
            [
             0.2,
             "#de77ae"
            ],
            [
             0.3,
             "#f1b6da"
            ],
            [
             0.4,
             "#fde0ef"
            ],
            [
             0.5,
             "#f7f7f7"
            ],
            [
             0.6,
             "#e6f5d0"
            ],
            [
             0.7,
             "#b8e186"
            ],
            [
             0.8,
             "#7fbc41"
            ],
            [
             0.9,
             "#4d9221"
            ],
            [
             1,
             "#276419"
            ]
           ],
           "sequential": [
            [
             0,
             "#0d0887"
            ],
            [
             0.1111111111111111,
             "#46039f"
            ],
            [
             0.2222222222222222,
             "#7201a8"
            ],
            [
             0.3333333333333333,
             "#9c179e"
            ],
            [
             0.4444444444444444,
             "#bd3786"
            ],
            [
             0.5555555555555556,
             "#d8576b"
            ],
            [
             0.6666666666666666,
             "#ed7953"
            ],
            [
             0.7777777777777778,
             "#fb9f3a"
            ],
            [
             0.8888888888888888,
             "#fdca26"
            ],
            [
             1,
             "#f0f921"
            ]
           ],
           "sequentialminus": [
            [
             0,
             "#0d0887"
            ],
            [
             0.1111111111111111,
             "#46039f"
            ],
            [
             0.2222222222222222,
             "#7201a8"
            ],
            [
             0.3333333333333333,
             "#9c179e"
            ],
            [
             0.4444444444444444,
             "#bd3786"
            ],
            [
             0.5555555555555556,
             "#d8576b"
            ],
            [
             0.6666666666666666,
             "#ed7953"
            ],
            [
             0.7777777777777778,
             "#fb9f3a"
            ],
            [
             0.8888888888888888,
             "#fdca26"
            ],
            [
             1,
             "#f0f921"
            ]
           ]
          },
          "colorway": [
           "#636efa",
           "#EF553B",
           "#00cc96",
           "#ab63fa",
           "#FFA15A",
           "#19d3f3",
           "#FF6692",
           "#B6E880",
           "#FF97FF",
           "#FECB52"
          ],
          "font": {
           "color": "#2a3f5f"
          },
          "geo": {
           "bgcolor": "white",
           "lakecolor": "white",
           "landcolor": "#E5ECF6",
           "showlakes": true,
           "showland": true,
           "subunitcolor": "white"
          },
          "hoverlabel": {
           "align": "left"
          },
          "hovermode": "closest",
          "mapbox": {
           "style": "light"
          },
          "paper_bgcolor": "white",
          "plot_bgcolor": "#E5ECF6",
          "polar": {
           "angularaxis": {
            "gridcolor": "white",
            "linecolor": "white",
            "ticks": ""
           },
           "bgcolor": "#E5ECF6",
           "radialaxis": {
            "gridcolor": "white",
            "linecolor": "white",
            "ticks": ""
           }
          },
          "scene": {
           "xaxis": {
            "backgroundcolor": "#E5ECF6",
            "gridcolor": "white",
            "gridwidth": 2,
            "linecolor": "white",
            "showbackground": true,
            "ticks": "",
            "zerolinecolor": "white"
           },
           "yaxis": {
            "backgroundcolor": "#E5ECF6",
            "gridcolor": "white",
            "gridwidth": 2,
            "linecolor": "white",
            "showbackground": true,
            "ticks": "",
            "zerolinecolor": "white"
           },
           "zaxis": {
            "backgroundcolor": "#E5ECF6",
            "gridcolor": "white",
            "gridwidth": 2,
            "linecolor": "white",
            "showbackground": true,
            "ticks": "",
            "zerolinecolor": "white"
           }
          },
          "shapedefaults": {
           "line": {
            "color": "#2a3f5f"
           }
          },
          "ternary": {
           "aaxis": {
            "gridcolor": "white",
            "linecolor": "white",
            "ticks": ""
           },
           "baxis": {
            "gridcolor": "white",
            "linecolor": "white",
            "ticks": ""
           },
           "bgcolor": "#E5ECF6",
           "caxis": {
            "gridcolor": "white",
            "linecolor": "white",
            "ticks": ""
           }
          },
          "title": {
           "x": 0.05
          },
          "xaxis": {
           "automargin": true,
           "gridcolor": "white",
           "linecolor": "white",
           "ticks": "",
           "title": {
            "standoff": 15
           },
           "zerolinecolor": "white",
           "zerolinewidth": 2
          },
          "yaxis": {
           "automargin": true,
           "gridcolor": "white",
           "linecolor": "white",
           "ticks": "",
           "title": {
            "standoff": 15
           },
           "zerolinecolor": "white",
           "zerolinewidth": 2
          }
         }
        },
        "title": {
         "text": "Test"
        },
        "width": 1000
       }
      }
     },
     "metadata": {},
     "output_type": "display_data"
    }
   ],
   "source": [
    "import plotly.graph_objects as go\n",
    "\n",
    "nodes , links = get_nodes_links(data)\n",
    "\n",
    "fig = go.Figure(go.Sankey(node = nodes,arrangement='perpendicular',\n",
    "    link = links ) )\n",
    "\n",
    "fig.update_layout(\n",
    "    title=\"Test\",\n",
    "    font=dict(size = 10, color = 'white'),\n",
    "    plot_bgcolor='black',\n",
    "    paper_bgcolor='black'\n",
    ")\n",
    "fig.update_layout(\n",
    "    autosize=False,\n",
    "    width=1000,\n",
    "    height=700,\n",
    ")\n",
    "fig.show()"
   ]
  },
  {
   "cell_type": "code",
   "execution_count": null,
   "metadata": {},
   "outputs": [],
   "source": [
    "fig.write_image(\"E:/wochong/fig1.pdf\")\n"
   ]
  }
 ],
 "metadata": {
  "kernelspec": {
   "display_name": "stereopy1",
   "language": "python",
   "name": "python3"
  },
  "language_info": {
   "codemirror_mode": {
    "name": "ipython",
    "version": 3
   },
   "file_extension": ".py",
   "mimetype": "text/x-python",
   "name": "python",
   "nbconvert_exporter": "python",
   "pygments_lexer": "ipython3",
   "version": "3.8.16"
  },
  "orig_nbformat": 4
 },
 "nbformat": 4,
 "nbformat_minor": 2
}
